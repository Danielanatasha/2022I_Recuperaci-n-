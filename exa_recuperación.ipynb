{
 "cells": [
  {
   "cell_type": "markdown",
   "id": "93e0bb2c",
   "metadata": {},
   "source": [
    "<img src=\"https://www.ikiam.edu.ec/img/logo-ikiam-grey.png\" width=200 height=150 />\n",
    "\n",
    "\n",
    "# EXAMEN RECUPERACIÓN PYTHON\n",
    "    \n",
    "\n",
    "## GBI6-2021II: BIOINFORMÁTICA\n",
    "\n",
    "**Endara Carrillo, Daniela Natasha** \n"
   ]
  },
  {
   "cell_type": "markdown",
   "id": "5588a0ee",
   "metadata": {},
   "source": [
    "## PREGUNTA 2 "
   ]
  },
  {
   "cell_type": "code",
   "execution_count": null,
   "id": "d981b08b",
   "metadata": {},
   "outputs": [],
   "source": [
    "from Bio import Entrez \n",
    "from Bio import SeqIO \n",
    "id_list = [\"3921,6233,6188,6189,6192\"]\n",
    "Entrez.email = \"A.N.Other@example.com\" \n",
    "with Entrez.efetch(db=\"nucleotide\", rettype=\"gb\", retmode=\"text\", id=id_list) as handle:\n",
    "    out_handle = open(\"Dtaexam/RibosomaS.txt\",\"w\")\n",
    "    data = handle.read()\n",
    "    handle.close()\n",
    "    out_handle.write(data)\n",
    "    out_handle.close()      "
   ]
  },
  {
   "cell_type": "code",
   "execution_count": null,
   "id": "d9c59023",
   "metadata": {},
   "outputs": [],
   "source": []
  },
  {
   "cell_type": "markdown",
   "id": "b26579cf",
   "metadata": {},
   "source": [
    "## Pregunta 3"
   ]
  },
  {
   "cell_type": "code",
   "execution_count": null,
   "id": "f8b6d021",
   "metadata": {},
   "outputs": [],
   "source": [
    "import numpy as np\n",
    "import matplotlib.pyplot as plt\n",
    "import matplotlib.mlab as mlab\n",
    "import math\n",
    "import seaborn as sns\n",
    "import pandas as pd"
   ]
  },
  {
   "cell_type": "code",
   "execution_count": 2,
   "id": "9826d9da",
   "metadata": {},
   "outputs": [
    {
     "data": {
      "image/png": "[encoded data removed]",
      "text/plain": [
       "<Figure size 432x288 with 1 Axes>"
      ]
     },
     "metadata": {
      "needs_background": "light"
     },
     "output_type": "display_data"
    }
   ],
   "source": [
    "\n",
    "Ribosomas = [3921,6233,6188,6189,6192]\n",
    "\n",
    "intervalos = range(min(Ribosomas), max(Ribosomas) + 2) #calculamos los extremos de los intervalos\n",
    "\n",
    "plt.hist(x= Ribosomas, bins=intervalos, color='#F2AB6D', rwidth=0.85)\n",
    "plt.title('Histograma Ribosomas')\n",
    "plt.xlabel('VALORES')\n",
    "plt.ylabel('FRECUENCIA')\n",
    "plt.xticks(intervalos)\n",
    "\n",
    "plt.show() #dibujamos el histograma"
   ]
  },
  {
   "cell_type": "markdown",
   "id": "34ac9b88",
   "metadata": {},
   "source": [
    "## PREGUNTA 4 "
   ]
  },
  {
   "cell_type": "code",
   "execution_count": 9,
   "id": "9ab3d9fb",
   "metadata": {},
   "outputs": [
    {
     "ename": "UnsupportedOperation",
     "evalue": "not readable",
     "output_type": "error",
     "traceback": [
      "\u001b[0;31m---------------------------------------------------------------------------\u001b[0m",
      "\u001b[0;31mUnsupportedOperation\u001b[0m                      Traceback (most recent call last)",
      "Input \u001b[0;32mIn [9]\u001b[0m, in \u001b[0;36m<cell line: 13>\u001b[0;34m()\u001b[0m\n\u001b[1;32m     12\u001b[0m \u001b[38;5;66;03m#f = open (\"sequence.seq\", \"r\")\u001b[39;00m\n\u001b[1;32m     13\u001b[0m \u001b[38;5;28;01mwith\u001b[39;00m \u001b[38;5;28mopen\u001b[39m(\u001b[38;5;124m\"\u001b[39m\u001b[38;5;124mDtaexam/sequence.seq\u001b[39m\u001b[38;5;124m\"\u001b[39m,\u001b[38;5;124m\"\u001b[39m\u001b[38;5;124mw\u001b[39m\u001b[38;5;124m\"\u001b[39m) \u001b[38;5;28;01mas\u001b[39;00m f:\n\u001b[0;32m---> 14\u001b[0m      data \u001b[38;5;241m=\u001b[39m \u001b[43mf\u001b[49m\u001b[38;5;241;43m.\u001b[39;49m\u001b[43mreadlines\u001b[49m\u001b[43m(\u001b[49m\u001b[43m)\u001b[49m\n\u001b[1;32m     15\u001b[0m \u001b[38;5;66;03m#print (data)\u001b[39;00m\n\u001b[1;32m     16\u001b[0m out_sequence \u001b[38;5;241m=\u001b[39m \u001b[38;5;28mopen\u001b[39m(\u001b[38;5;124m\"\u001b[39m\u001b[38;5;124mDtaexam/secuencias.txt\u001b[39m\u001b[38;5;124m\"\u001b[39m, \u001b[38;5;124m\"\u001b[39m\u001b[38;5;124mw\u001b[39m\u001b[38;5;124m\"\u001b[39m)\n",
      "\u001b[0;31mUnsupportedOperation\u001b[0m: not readable"
     ]
    }
   ],
   "source": [
    "# Escriba aquí su código para el ejercicio 6\n",
    "import Bio\n",
    "from Bio.Seq import Seq\n",
    "from Bio import Phylo\n",
    "from Bio import SeqIO\n",
    "from Bio import AlignIO\n",
    "from Bio.Phylo.TreeConstruction import DistanceCalculator\n",
    "from Bio.Phylo.TreeConstruction import DistanceTreeConstructor\n",
    "# cargar biopython o sus módulo, funciones\n",
    "from Bio import Entrez\n",
    "import re\n",
    "#f = open (\"sequence.seq\", \"r\")\n",
    "with open(\"Dtaexam/sequence.seq\",\"w\") as f:\n",
    "     data = f.readlines[0:5]\n",
    "#print (data)\n",
    "out_sequence = open(\"Dtaexam/secuencias.txt\", \"w\")\n",
    "for linea in data:  \n",
    "    id_list = [\"3921,6233,6188,6189,6192\"]\n",
    "    Entrez.email=\"A.N.Other@example.com\"\n",
    "    handle=Entrez.efetch(db=\"nucleotide\", rettype=\"gb\", retmode=\"text\", id=id_list)\n",
    "    data=(handle.read())\n",
    "    out_sequence.write(data)\n",
    "out_sequence.close()\n",
    "\n",
    "with open(\"alineacion.txt\", \"r\") as f: \n",
    "    alignment = AlignIO.read(f, \"clustal\")\n",
    "calculator = DistanceCalculator(\"identity\")\n",
    "distance_matriz = calculator.get_distance(alignment)\n",
    "#print(distance_matriz)\n",
    "constructor = DistanceTreeConstructor(calculator)\n",
    "tree = constructor.build_tree(alignment)\n",
    "tree.rooted = True \n",
    "Phylo.draw_ascii(tree)\n",
    "\n",
    "\n"
   ]
  },
  {
   "cell_type": "code",
   "execution_count": null,
   "id": "9c8588eb",
   "metadata": {},
   "outputs": [],
   "source": []
  },
  {
   "cell_type": "code",
   "execution_count": null,
   "id": "daa9f8a5",
   "metadata": {},
   "outputs": [],
   "source": []
  }
 ],
 "metadata": {
  "kernelspec": {
   "display_name": "Python 3 (ipykernel)",
   "language": "python",
   "name": "python3"
  },
  "language_info": {
   "codemirror_mode": {
    "name": "ipython",
    "version": 3
   },
   "file_extension": ".py",
   "mimetype": "text/x-python",
   "name": "python",
   "nbconvert_exporter": "python",
   "pygments_lexer": "ipython3",
   "version": "3.9.12"
  }
 },
 "nbformat": 4,
 "nbformat_minor": 5
}
